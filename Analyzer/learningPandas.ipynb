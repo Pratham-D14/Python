{
 "cells": [
  {
   "cell_type": "code",
   "id": "initial_id",
   "metadata": {
    "collapsed": true,
    "ExecuteTime": {
     "end_time": "2025-09-28T10:00:34.021442Z",
     "start_time": "2025-09-28T10:00:33.520088Z"
    }
   },
   "source": [
    "import pandas as pd\n",
    "\n",
    "df = pd.read_csv('data.csv')"
   ],
   "outputs": [],
   "execution_count": 2
  },
  {
   "metadata": {
    "ExecuteTime": {
     "end_time": "2025-09-28T10:00:35.790206Z",
     "start_time": "2025-09-28T10:00:35.758814Z"
    }
   },
   "cell_type": "code",
   "source": "print(df)",
   "id": "8b87c790bc924733",
   "outputs": [
    {
     "name": "stdout",
     "output_type": "stream",
     "text": [
      "   ID     Name  Age Department  Salary JoiningDate  ExperienceYears\n",
      "0   1    Alice   25         IT   50000  2022-03-15                1\n",
      "1   2      Bob   30         HR   60000  2018-07-21                5\n",
      "2   3  Charlie   28         IT   55000  2020-11-12                3\n",
      "3   4    David   35    Finance   70000  2015-05-30                8\n",
      "4   5      Eva   26  Marketing   48000  2021-08-17                2\n",
      "5   6    Frank   32         IT   62000  2017-02-10                6\n",
      "6   7    Grace   29         HR   59000  2019-12-05                4\n",
      "7   8    Helen   31    Finance   65000  2016-09-22                7\n",
      "8   9      Ian   27  Marketing   47000  2022-01-03                1\n",
      "9  10     Jack   33         IT   68000  2014-06-14                9\n"
     ]
    }
   ],
   "execution_count": 3
  }
 ],
 "metadata": {
  "kernelspec": {
   "display_name": "Python 3",
   "language": "python",
   "name": "python3"
  },
  "language_info": {
   "codemirror_mode": {
    "name": "ipython",
    "version": 2
   },
   "file_extension": ".py",
   "mimetype": "text/x-python",
   "name": "python",
   "nbconvert_exporter": "python",
   "pygments_lexer": "ipython2",
   "version": "2.7.6"
  }
 },
 "nbformat": 4,
 "nbformat_minor": 5
}
